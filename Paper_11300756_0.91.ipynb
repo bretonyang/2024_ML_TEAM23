{
  "nbformat": 4,
  "nbformat_minor": 0,
  "metadata": {
    "colab": {
      "provenance": []
    },
    "kernelspec": {
      "name": "python3",
      "display_name": "Python 3"
    },
    "language_info": {
      "name": "python"
    }
  },
  "cells": [
    {
      "cell_type": "markdown",
      "source": [
        "# Final Version"
      ],
      "metadata": {
        "id": "Odn2ovGj9aAf"
      }
    },
    {
      "cell_type": "code",
      "source": [
        "import numpy as np\n",
        "import pandas as pd\n",
        "from sklearn.preprocessing import LabelEncoder, OneHotEncoder, MinMaxScaler\n",
        "from sklearn.model_selection import train_test_split\n",
        "from tensorflow.keras.models import Sequential\n",
        "from tensorflow.keras.layers import SimpleRNN, Input, Dense"
      ],
      "metadata": {
        "id": "xB-KrnK69jK-"
      },
      "execution_count": 153,
      "outputs": []
    },
    {
      "cell_type": "markdown",
      "source": [
        "## Data Preprocess"
      ],
      "metadata": {
        "id": "uyvRQSRO9eSs"
      }
    },
    {
      "cell_type": "markdown",
      "source": [
        "### Transform data\n",
        "NOTE: the value range and number of unique values below are just an estimation, it's merely listed to help you understand each feature.\n",
        "\n",
        "Abbreviations: b.n. before normalization, b.e. before encoding.\n",
        "\n",
        "Normalized features:\n",
        "- release_speed (value 0~105)\n",
        "- launch_speed (value 0~120, empty=>0 b.n.)\n",
        "- launch_angle (value -90~90, empty=>0 b.n.)\n",
        "- hit_distance_sc (value 0~400, empty=>0 b.n.)\n",
        "\n",
        "One-hot encoded features:\n",
        "- pitch_type (unique 7) (as an input feature, don't use one-hot for output)\n",
        "- strikes (unique 3)\n",
        "- balls (unique 4)\n",
        "- zone (unique 14)\n",
        "- description (unique 11)\n",
        "- bb_type (unique 4, empty=>str b.e)\n",
        "\n",
        "Embedded features:\n",
        "- batter (integer ID)"
      ],
      "metadata": {
        "id": "zGK1mVER-JHG"
      }
    },
    {
      "cell_type": "code",
      "source": [
        "# Read data and reverse it (sorted by Game Date)\n",
        "data = pd.read_csv('shota_imanaga_all_data_2024.csv')\n",
        "data = data.iloc[::-1].reset_index(drop=True)\n",
        "\n",
        "print(len(set(data['bb_type'])))\n",
        "print(len(set(data['description'])))\n",
        "print(len(set(data['bb_type'])))\n",
        "print(len(set(data['pitch_type'])))"
      ],
      "metadata": {
        "colab": {
          "base_uri": "https://localhost:8080/"
        },
        "id": "CgOk5PNq9ZMG",
        "outputId": "bcae8e2b-f2a2-4d7a-e06f-27df4840b17b"
      },
      "execution_count": 154,
      "outputs": [
        {
          "output_type": "stream",
          "name": "stdout",
          "text": [
            "5\n",
            "11\n",
            "5\n",
            "8\n"
          ]
        }
      ]
    },
    {
      "cell_type": "markdown",
      "source": [
        "We will store raw data in `data` and processed data in `processed_data` with only the target features."
      ],
      "metadata": {
        "id": "OR4SIBd2Ysd6"
      }
    },
    {
      "cell_type": "code",
      "source": [
        "processed_data = pd.DataFrame()\n",
        "processed_output = pd.DataFrame()\n",
        "\n",
        "### CONFIGURE ###\n",
        "normalized_features = ['release_speed', 'launch_speed', 'launch_angle', 'hit_distance_sc']\n",
        "normalized_features_possibly_missing = ['launch_speed', 'launch_angle', 'hit_distance_sc']\n",
        "\n",
        "one_hot_features = ['pitch_type', 'strikes', 'balls', 'zone', 'description', 'bb_type']\n",
        "one_hot_features_possibly_missing = ['bb_type']\n",
        "\n",
        "embedded_features = ['batter']\n",
        "\n",
        "output_feature = 'pitch_type'\n",
        "### CONFIGURE ###\n",
        "\n",
        "# Normalization\n",
        "for feature in normalized_features:\n",
        "    processed_data[feature] = data[feature]\n",
        "    # Fill empty entries with 0\n",
        "    if feature in normalized_features_possibly_missing:\n",
        "        processed_data[feature] = processed_data[feature].fillna(0)\n",
        "    # Normalize\n",
        "    scaler = MinMaxScaler(feature_range=(-1, 1))\n",
        "    processed_data[feature] = scaler.fit_transform(processed_data[[feature]])\n",
        "\n",
        "# One-Hot Encode\n",
        "ont_hot_tmp_df = pd.DataFrame()\n",
        "for feature in one_hot_features:\n",
        "    ont_hot_tmp_df[feature] = data[feature]\n",
        "    # Fill empty entries with 'Unknown'\n",
        "    if feature in one_hot_features_possibly_missing:\n",
        "        ont_hot_tmp_df[feature] = ont_hot_tmp_df[feature].fillna('Unknown')\n",
        "one_hot_encoder = OneHotEncoder(sparse_output=False)\n",
        "encoded = one_hot_encoder.fit_transform(ont_hot_tmp_df[one_hot_features])\n",
        "processed_data[one_hot_encoder.get_feature_names_out(one_hot_features)] = encoded\n",
        "\n",
        "# Label encode for embedding\n",
        "for feature in embedded_features:\n",
        "    processed_data[feature] = data[feature]\n",
        "    label_encoder = LabelEncoder()\n",
        "    processed_data[feature] = label_encoder.fit_transform(processed_data[feature])\n",
        "\n",
        "# Label output\n",
        "label_encoder = LabelEncoder()\n",
        "processed_output[output_feature] = label_encoder.fit_transform(data[output_feature])\n",
        "\n",
        "# Final processed dataset\n",
        "print(\"Processed Data Shape:\", processed_data.shape)\n",
        "processed_data, processed_output"
      ],
      "metadata": {
        "colab": {
          "base_uri": "https://localhost:8080/"
        },
        "id": "MH3DCGu1XIPv",
        "outputId": "1352d872-40f3-4a1c-b872-a53124260c86"
      },
      "execution_count": 155,
      "outputs": [
        {
          "output_type": "stream",
          "name": "stdout",
          "text": [
            "Processed Data Shape: (2590, 49)\n"
          ]
        },
        {
          "output_type": "execute_result",
          "data": {
            "text/plain": [
              "(      release_speed  launch_speed  launch_angle  hit_distance_sc  \\\n",
              " 0          0.891892     -1.000000     -0.086420        -1.000000   \n",
              " 1          0.945946     -1.000000     -0.086420        -1.000000   \n",
              " 2          0.906634      0.715035      0.209877         0.596372   \n",
              " 3          0.936118      0.386364      0.061728        -0.301587   \n",
              " 4          0.484029     -1.000000     -0.086420        -1.000000   \n",
              " ...             ...           ...           ...              ...   \n",
              " 2585       0.778870     -1.000000     -0.086420        -1.000000   \n",
              " 2586       0.837838     -1.000000     -0.086420        -1.000000   \n",
              " 2587       0.690418      0.253497     -0.740741        -0.995465   \n",
              " 2588       0.818182     -1.000000     -0.086420        -1.000000   \n",
              " 2589       0.429975      0.625874     -0.222222        -0.959184   \n",
              " \n",
              "       pitch_type_CH  pitch_type_CS  pitch_type_CU  pitch_type_FC  \\\n",
              " 0               0.0            0.0            0.0            0.0   \n",
              " 1               0.0            0.0            0.0            0.0   \n",
              " 2               0.0            0.0            0.0            0.0   \n",
              " 3               0.0            0.0            0.0            0.0   \n",
              " 4               0.0            0.0            0.0            0.0   \n",
              " ...             ...            ...            ...            ...   \n",
              " 2585            0.0            0.0            0.0            0.0   \n",
              " 2586            0.0            0.0            0.0            0.0   \n",
              " 2587            0.0            0.0            0.0            0.0   \n",
              " 2588            0.0            0.0            0.0            0.0   \n",
              " 2589            0.0            0.0            0.0            0.0   \n",
              " \n",
              "       pitch_type_FF  pitch_type_FS  ...  description_hit_into_play  \\\n",
              " 0               1.0            0.0  ...                        0.0   \n",
              " 1               1.0            0.0  ...                        0.0   \n",
              " 2               1.0            0.0  ...                        1.0   \n",
              " 3               1.0            0.0  ...                        0.0   \n",
              " 4               0.0            1.0  ...                        0.0   \n",
              " ...             ...            ...  ...                        ...   \n",
              " 2585            1.0            0.0  ...                        0.0   \n",
              " 2586            1.0            0.0  ...                        0.0   \n",
              " 2587            0.0            0.0  ...                        0.0   \n",
              " 2588            1.0            0.0  ...                        0.0   \n",
              " 2589            0.0            1.0  ...                        1.0   \n",
              " \n",
              "       description_missed_bunt  description_swinging_strike  \\\n",
              " 0                         0.0                          0.0   \n",
              " 1                         0.0                          0.0   \n",
              " 2                         0.0                          0.0   \n",
              " 3                         0.0                          0.0   \n",
              " 4                         0.0                          1.0   \n",
              " ...                       ...                          ...   \n",
              " 2585                      0.0                          0.0   \n",
              " 2586                      0.0                          1.0   \n",
              " 2587                      0.0                          0.0   \n",
              " 2588                      0.0                          0.0   \n",
              " 2589                      0.0                          0.0   \n",
              " \n",
              "       description_swinging_strike_blocked  bb_type_Unknown  bb_type_fly_ball  \\\n",
              " 0                                     0.0              1.0               0.0   \n",
              " 1                                     0.0              1.0               0.0   \n",
              " 2                                     0.0              0.0               1.0   \n",
              " 3                                     0.0              1.0               0.0   \n",
              " 4                                     0.0              1.0               0.0   \n",
              " ...                                   ...              ...               ...   \n",
              " 2585                                  0.0              1.0               0.0   \n",
              " 2586                                  0.0              1.0               0.0   \n",
              " 2587                                  0.0              1.0               0.0   \n",
              " 2588                                  0.0              1.0               0.0   \n",
              " 2589                                  0.0              0.0               0.0   \n",
              " \n",
              "       bb_type_ground_ball  bb_type_line_drive  bb_type_popup  batter  \n",
              " 0                     0.0                 0.0            0.0       0  \n",
              " 1                     0.0                 0.0            0.0       0  \n",
              " 2                     0.0                 0.0            0.0       0  \n",
              " 3                     0.0                 0.0            0.0     122  \n",
              " 4                     0.0                 0.0            0.0     122  \n",
              " ...                   ...                 ...            ...     ...  \n",
              " 2585                  0.0                 0.0            0.0     230  \n",
              " 2586                  0.0                 0.0            0.0     230  \n",
              " 2587                  0.0                 0.0            0.0     229  \n",
              " 2588                  0.0                 0.0            0.0     229  \n",
              " 2589                  1.0                 0.0            0.0     229  \n",
              " \n",
              " [2590 rows x 49 columns],\n",
              "       pitch_type\n",
              " 0              4\n",
              " 1              4\n",
              " 2              4\n",
              " 3              4\n",
              " 4              5\n",
              " ...          ...\n",
              " 2585           4\n",
              " 2586           4\n",
              " 2587           6\n",
              " 2588           4\n",
              " 2589           5\n",
              " \n",
              " [2590 rows x 1 columns])"
            ]
          },
          "metadata": {},
          "execution_count": 155
        }
      ]
    },
    {
      "cell_type": "markdown",
      "source": [
        "### Create Subsequences"
      ],
      "metadata": {
        "id": "aGZOwf5vmMD9"
      }
    },
    {
      "cell_type": "code",
      "source": [
        "# Step 3: Initialize variables for creating sequences\n",
        "# numeric_features = ['isStrike', 'Zone', 'Strike Detail']\n",
        "# categorical_features = ['Pitch type']\n",
        "batter_column = 'batter'\n",
        "\n",
        "# List to store sequences\n",
        "sequences = []\n",
        "current_sequence = []\n",
        "current_batter_id = None\n",
        "\n",
        "# Step 4: Iterate through the dataset row by row\n",
        "for index, row in processed_data.iterrows():\n",
        "    batter_id = row[batter_column]\n",
        "    row_features = row.values\n",
        "\n",
        "    if batter_id != current_batter_id and current_sequence:\n",
        "        # If batter changes or we're at the end of a sequence, save the current sequence\n",
        "        sequences.append({\n",
        "            'Batter ID': current_batter_id,\n",
        "            'Sequence': np.array(current_sequence)\n",
        "        })\n",
        "        current_sequence = []  # Reset sequence for the new batter\n",
        "\n",
        "    # Add the current row to the sequence\n",
        "    current_sequence.append(row_features)\n",
        "    current_batter_id = batter_id\n",
        "\n",
        "# Save the last sequence if it exists\n",
        "if current_sequence:\n",
        "    sequences.append({\n",
        "        'Batter ID': current_batter_id,\n",
        "        'Sequence': np.array(current_sequence)\n",
        "    })\n",
        "\n",
        "# Convert sequences into a structured format if needed\n",
        "sequence_array = [entry['Sequence'] for entry in sequences]"
      ],
      "metadata": {
        "id": "Vih38_HYmQd7"
      },
      "execution_count": 156,
      "outputs": []
    },
    {
      "cell_type": "code",
      "source": [
        "def pad_sequence(sequence, target_length=12, padding_value=0):\n",
        "    \"\"\"\n",
        "    對序列進行填充，使其長度達到 target_length。\n",
        "\n",
        "    :param sequence: 需要填充的序列\n",
        "    :param target_length: 目標長度\n",
        "    :param padding_value: 填充的數值，預設為 0\n",
        "    :return: 填充後的序列\n",
        "    \"\"\"\n",
        "    current_length = len(sequence)\n",
        "\n",
        "    # 如果當前序列長度小於目標長度，則進行填充\n",
        "    if current_length < target_length:\n",
        "        padding_needed = target_length - current_length\n",
        "        # 使用 np.pad 來填充序列，填充行的數量\n",
        "        padded_sequence = np.pad(sequence,\n",
        "                                 ((0, padding_needed), (0, 0)),  # 填充的行和列\n",
        "                                 mode='constant', constant_values=padding_value)\n",
        "        return padded_sequence\n",
        "    else:\n",
        "        return sequence  # 如果序列長度已經足夠長，則返回原始序列"
      ],
      "metadata": {
        "id": "LqHQKbeqmUZW"
      },
      "execution_count": 157,
      "outputs": []
    },
    {
      "cell_type": "code",
      "source": [
        "all_sequences = []\n",
        "for batter in sequences:\n",
        "    batter_id = batter['Batter ID']  # 獲取打者 ID\n",
        "    # print(batter_id)\n",
        "\n",
        "    batter_sequences = batter['Sequence']  # 獲取該打者的所有序列\n",
        "    sequence_length=len(batter_sequences)\n",
        "    for length in range(1, sequence_length):  # 子序列的長度從 1 到 sequence_length\n",
        "      for start_idx in range(sequence_length - length ):  # 每個起始位置\n",
        "        sub_sequence = batter_sequences[start_idx:start_idx + length]  # 取得子序列\n",
        "        padded_sub_sequence = pad_sequence(sub_sequence, target_length=12)\n",
        "        all_sequences.append(padded_sub_sequence)\n",
        "\n",
        "\n",
        "X=np.array(all_sequences)\n",
        "\n",
        "print(X[1][0])\n",
        "print(processed_data.iloc[[1]])"
      ],
      "metadata": {
        "colab": {
          "base_uri": "https://localhost:8080/"
        },
        "id": "CMpMwrfcmVjx",
        "outputId": "49fb4f4f-3001-4039-8964-79c35f79920d"
      },
      "execution_count": 158,
      "outputs": [
        {
          "output_type": "stream",
          "name": "stdout",
          "text": [
            "[ 0.94594595 -1.         -0.08641975 -1.          0.          0.\n",
            "  0.          0.          1.          0.          0.          0.\n",
            "  0.          1.          0.          1.          0.          0.\n",
            "  0.          0.          0.          0.          0.          0.\n",
            "  0.          0.          0.          0.          1.          0.\n",
            "  0.          0.          1.          0.          0.          0.\n",
            "  0.          0.          0.          0.          0.          0.\n",
            "  0.          1.          0.          0.          0.          0.\n",
            "  0.        ]\n",
            "   release_speed  launch_speed  launch_angle  hit_distance_sc  pitch_type_CH  \\\n",
            "1       0.945946          -1.0      -0.08642             -1.0            0.0   \n",
            "\n",
            "   pitch_type_CS  pitch_type_CU  pitch_type_FC  pitch_type_FF  pitch_type_FS  \\\n",
            "1            0.0            0.0            0.0            1.0            0.0   \n",
            "\n",
            "   ...  description_hit_into_play  description_missed_bunt  \\\n",
            "1  ...                        0.0                      0.0   \n",
            "\n",
            "   description_swinging_strike  description_swinging_strike_blocked  \\\n",
            "1                          0.0                                  0.0   \n",
            "\n",
            "   bb_type_Unknown  bb_type_fly_ball  bb_type_ground_ball  bb_type_line_drive  \\\n",
            "1              1.0               0.0                  0.0                 0.0   \n",
            "\n",
            "   bb_type_popup  batter  \n",
            "1            0.0       0  \n",
            "\n",
            "[1 rows x 49 columns]\n"
          ]
        }
      ]
    },
    {
      "cell_type": "code",
      "source": [
        "batter_column = 'batter'\n",
        "\n",
        "# List to store sequences\n",
        "sequences = []\n",
        "current_sequence = []\n",
        "current_batter_id = None\n",
        "\n",
        "# Step 4: Iterate through the dataset row by row\n",
        "for index, row in processed_data.iterrows():\n",
        "    batter_id = row[batter_column]\n",
        "    row_features = processed_output.iloc[index].values\n",
        "\n",
        "    if batter_id != current_batter_id and current_sequence:\n",
        "        # If batter changes or we're at the end of a sequence, save the current sequence\n",
        "        sequences.append({\n",
        "            'Batter ID': current_batter_id,\n",
        "            'Sequence': np.array(current_sequence)\n",
        "        })\n",
        "        current_sequence = []  # Reset sequence for the new batter\n",
        "\n",
        "    # Add the current row to the sequence\n",
        "    current_sequence.append(row_features)\n",
        "    current_batter_id = batter_id\n",
        "\n",
        "# Save the last sequence if it exists\n",
        "if current_sequence:\n",
        "    sequences.append({\n",
        "        'Batter ID': current_batter_id,\n",
        "        'Sequence': np.array(current_sequence)\n",
        "    })\n",
        "\n",
        "# Convert sequences into a structured format if needed\n",
        "sequence_array = [entry['Sequence'] for entry in sequences]\n",
        "y_sequences = []\n",
        "for batter in sequences:\n",
        "    batter_id = batter['Batter ID']  # 獲取打者 ID\n",
        "\n",
        "    batter_sequences = batter['Sequence']  # 獲取該打者的所有序列\n",
        "    sequence_length=len(batter_sequences)\n",
        "    for length in range(1, sequence_length):  # 子序列的長度從 1 到 sequence_length\n",
        "      for start_idx in range(1,sequence_length - length+1):  # 每個起始位置\n",
        "        sub_sequence = batter_sequences[start_idx:start_idx + length]  # 取得子序列\n",
        "        padded_sub_sequence = pad_sequence(sub_sequence, target_length=12)\n",
        "        y_sequences.append(padded_sub_sequence)\n",
        "\n",
        "y=np.array(y_sequences)\n",
        "y[10:13], processed_output.iloc[3:8]"
      ],
      "metadata": {
        "colab": {
          "base_uri": "https://localhost:8080/"
        },
        "id": "9g42B9q-mWw9",
        "outputId": "1ad128a1-2472-4edb-bb98-5e306735970b"
      },
      "execution_count": 159,
      "outputs": [
        {
          "output_type": "execute_result",
          "data": {
            "text/plain": [
              "(array([[[5],\n",
              "         [4],\n",
              "         [4],\n",
              "         [0],\n",
              "         [0],\n",
              "         [0],\n",
              "         [0],\n",
              "         [0],\n",
              "         [0],\n",
              "         [0],\n",
              "         [0],\n",
              "         [0]],\n",
              " \n",
              "        [[4],\n",
              "         [4],\n",
              "         [5],\n",
              "         [0],\n",
              "         [0],\n",
              "         [0],\n",
              "         [0],\n",
              "         [0],\n",
              "         [0],\n",
              "         [0],\n",
              "         [0],\n",
              "         [0]],\n",
              " \n",
              "        [[5],\n",
              "         [4],\n",
              "         [4],\n",
              "         [5],\n",
              "         [0],\n",
              "         [0],\n",
              "         [0],\n",
              "         [0],\n",
              "         [0],\n",
              "         [0],\n",
              "         [0],\n",
              "         [0]]]),\n",
              "    pitch_type\n",
              " 3           4\n",
              " 4           5\n",
              " 5           4\n",
              " 6           4\n",
              " 7           5)"
            ]
          },
          "metadata": {},
          "execution_count": 159
        }
      ]
    },
    {
      "cell_type": "markdown",
      "source": [
        "### Split data"
      ],
      "metadata": {
        "id": "utWwXyYj-KT0"
      }
    },
    {
      "cell_type": "code",
      "source": [
        "# Define split ratios\n",
        "train_ratio = 0.64\n",
        "val_ratio = 0.16\n",
        "test_ratio = 0.2\n",
        "\n",
        "# First, split into training and temp (validation + testing)\n",
        "X_train, X_temp, y_train, y_temp = train_test_split(X, y, test_size=(1 - train_ratio), random_state=42)\n",
        "\n",
        "# Then, split temp into validation and testing\n",
        "val_test_ratio = test_ratio / (test_ratio + val_ratio)  # Adjust split ratio for remaining data\n",
        "X_val, X_test, y_val, y_test = train_test_split(X_temp, y_temp, test_size=val_test_ratio, random_state=42)\n",
        "\n",
        "# Print dataset sizes\n",
        "print(f\"Training set: {X_train.shape}, {y_train.shape}\")\n",
        "print(f\"Validation set: {X_val.shape}, {y_val.shape}\")\n",
        "print(f\"Testing set: {X_test.shape}, {y_test.shape}\")"
      ],
      "metadata": {
        "colab": {
          "base_uri": "https://localhost:8080/"
        },
        "id": "MIM96fyo-iDS",
        "outputId": "3b70b2d0-49aa-4eff-b425-1569b962dd83"
      },
      "execution_count": 160,
      "outputs": [
        {
          "output_type": "stream",
          "name": "stdout",
          "text": [
            "Training set: (3116, 12, 49), (3116, 12, 1)\n",
            "Validation set: (779, 12, 49), (779, 12, 1)\n",
            "Testing set: (975, 12, 49), (975, 12, 1)\n"
          ]
        }
      ]
    },
    {
      "cell_type": "markdown",
      "source": [
        "## Model"
      ],
      "metadata": {
        "id": "ELnd3TcozqFv"
      }
    },
    {
      "cell_type": "code",
      "source": [
        "# VERSION: simple RNN\n",
        "# Number of unique pitch types (replace with actual number from your data)\n",
        "num_classes = processed_output[output_feature].nunique()  # Assuming `y` is label-encoded\n",
        "print(num_classes)\n",
        "\n",
        "# Build the model\n",
        "print(X_train.shape)\n",
        "model = Sequential([\n",
        "    Input(shape=(X_train.shape[1], X_train.shape[2])),  # Input: (sequence_length, num_features)\n",
        "    SimpleRNN(64, return_sequences=True),  # RNN with 64 units\n",
        "    Dense(32, activation='relu'),           # Fully connected layer\n",
        "    Dense(num_classes, activation='softmax')  # Output layer for classification\n",
        "])\n",
        "\n",
        "# Compile the model\n",
        "model.compile(\n",
        "    optimizer='adam',\n",
        "    loss='sparse_categorical_crossentropy',  # Use sparse_categorical_crossentropy for label-encoded targets\n",
        "    metrics=['accuracy']\n",
        ")\n",
        "\n",
        "model.summary()"
      ],
      "metadata": {
        "colab": {
          "base_uri": "https://localhost:8080/",
          "height": 260
        },
        "id": "QKz5uokbzsVN",
        "outputId": "c7ecaf04-1f40-4bd5-e27a-b5d457ecbec3"
      },
      "execution_count": 176,
      "outputs": [
        {
          "output_type": "stream",
          "name": "stdout",
          "text": [
            "8\n",
            "(3116, 12, 49)\n"
          ]
        },
        {
          "output_type": "display_data",
          "data": {
            "text/plain": [
              "\u001b[1mModel: \"sequential_9\"\u001b[0m\n"
            ],
            "text/html": [
              "<pre style=\"white-space:pre;overflow-x:auto;line-height:normal;font-family:Menlo,'DejaVu Sans Mono',consolas,'Courier New',monospace\"><span style=\"font-weight: bold\">Model: \"sequential_9\"</span>\n",
              "</pre>\n"
            ]
          },
          "metadata": {}
        },
        {
          "output_type": "display_data",
          "data": {
            "text/plain": [
              "┏━━━━━━━━━━━━━━━━━━━━━━━━━━━━━━━━━━━━━━┳━━━━━━━━━━━━━━━━━━━━━━━━━━━━━┳━━━━━━━━━━━━━━━━━┓\n",
              "┃\u001b[1m \u001b[0m\u001b[1mLayer (type)                        \u001b[0m\u001b[1m \u001b[0m┃\u001b[1m \u001b[0m\u001b[1mOutput Shape               \u001b[0m\u001b[1m \u001b[0m┃\u001b[1m \u001b[0m\u001b[1m        Param #\u001b[0m\u001b[1m \u001b[0m┃\n",
              "┡━━━━━━━━━━━━━━━━━━━━━━━━━━━━━━━━━━━━━━╇━━━━━━━━━━━━━━━━━━━━━━━━━━━━━╇━━━━━━━━━━━━━━━━━┩\n",
              "│ simple_rnn_9 (\u001b[38;5;33mSimpleRNN\u001b[0m)             │ (\u001b[38;5;45mNone\u001b[0m, \u001b[38;5;34m12\u001b[0m, \u001b[38;5;34m64\u001b[0m)              │           \u001b[38;5;34m7,296\u001b[0m │\n",
              "├──────────────────────────────────────┼─────────────────────────────┼─────────────────┤\n",
              "│ dense_18 (\u001b[38;5;33mDense\u001b[0m)                     │ (\u001b[38;5;45mNone\u001b[0m, \u001b[38;5;34m12\u001b[0m, \u001b[38;5;34m32\u001b[0m)              │           \u001b[38;5;34m2,080\u001b[0m │\n",
              "├──────────────────────────────────────┼─────────────────────────────┼─────────────────┤\n",
              "│ dense_19 (\u001b[38;5;33mDense\u001b[0m)                     │ (\u001b[38;5;45mNone\u001b[0m, \u001b[38;5;34m12\u001b[0m, \u001b[38;5;34m8\u001b[0m)               │             \u001b[38;5;34m264\u001b[0m │\n",
              "└──────────────────────────────────────┴─────────────────────────────┴─────────────────┘\n"
            ],
            "text/html": [
              "<pre style=\"white-space:pre;overflow-x:auto;line-height:normal;font-family:Menlo,'DejaVu Sans Mono',consolas,'Courier New',monospace\">┏━━━━━━━━━━━━━━━━━━━━━━━━━━━━━━━━━━━━━━┳━━━━━━━━━━━━━━━━━━━━━━━━━━━━━┳━━━━━━━━━━━━━━━━━┓\n",
              "┃<span style=\"font-weight: bold\"> Layer (type)                         </span>┃<span style=\"font-weight: bold\"> Output Shape                </span>┃<span style=\"font-weight: bold\">         Param # </span>┃\n",
              "┡━━━━━━━━━━━━━━━━━━━━━━━━━━━━━━━━━━━━━━╇━━━━━━━━━━━━━━━━━━━━━━━━━━━━━╇━━━━━━━━━━━━━━━━━┩\n",
              "│ simple_rnn_9 (<span style=\"color: #0087ff; text-decoration-color: #0087ff\">SimpleRNN</span>)             │ (<span style=\"color: #00d7ff; text-decoration-color: #00d7ff\">None</span>, <span style=\"color: #00af00; text-decoration-color: #00af00\">12</span>, <span style=\"color: #00af00; text-decoration-color: #00af00\">64</span>)              │           <span style=\"color: #00af00; text-decoration-color: #00af00\">7,296</span> │\n",
              "├──────────────────────────────────────┼─────────────────────────────┼─────────────────┤\n",
              "│ dense_18 (<span style=\"color: #0087ff; text-decoration-color: #0087ff\">Dense</span>)                     │ (<span style=\"color: #00d7ff; text-decoration-color: #00d7ff\">None</span>, <span style=\"color: #00af00; text-decoration-color: #00af00\">12</span>, <span style=\"color: #00af00; text-decoration-color: #00af00\">32</span>)              │           <span style=\"color: #00af00; text-decoration-color: #00af00\">2,080</span> │\n",
              "├──────────────────────────────────────┼─────────────────────────────┼─────────────────┤\n",
              "│ dense_19 (<span style=\"color: #0087ff; text-decoration-color: #0087ff\">Dense</span>)                     │ (<span style=\"color: #00d7ff; text-decoration-color: #00d7ff\">None</span>, <span style=\"color: #00af00; text-decoration-color: #00af00\">12</span>, <span style=\"color: #00af00; text-decoration-color: #00af00\">8</span>)               │             <span style=\"color: #00af00; text-decoration-color: #00af00\">264</span> │\n",
              "└──────────────────────────────────────┴─────────────────────────────┴─────────────────┘\n",
              "</pre>\n"
            ]
          },
          "metadata": {}
        },
        {
          "output_type": "display_data",
          "data": {
            "text/plain": [
              "\u001b[1m Total params: \u001b[0m\u001b[38;5;34m9,640\u001b[0m (37.66 KB)\n"
            ],
            "text/html": [
              "<pre style=\"white-space:pre;overflow-x:auto;line-height:normal;font-family:Menlo,'DejaVu Sans Mono',consolas,'Courier New',monospace\"><span style=\"font-weight: bold\"> Total params: </span><span style=\"color: #00af00; text-decoration-color: #00af00\">9,640</span> (37.66 KB)\n",
              "</pre>\n"
            ]
          },
          "metadata": {}
        },
        {
          "output_type": "display_data",
          "data": {
            "text/plain": [
              "\u001b[1m Trainable params: \u001b[0m\u001b[38;5;34m9,640\u001b[0m (37.66 KB)\n"
            ],
            "text/html": [
              "<pre style=\"white-space:pre;overflow-x:auto;line-height:normal;font-family:Menlo,'DejaVu Sans Mono',consolas,'Courier New',monospace\"><span style=\"font-weight: bold\"> Trainable params: </span><span style=\"color: #00af00; text-decoration-color: #00af00\">9,640</span> (37.66 KB)\n",
              "</pre>\n"
            ]
          },
          "metadata": {}
        },
        {
          "output_type": "display_data",
          "data": {
            "text/plain": [
              "\u001b[1m Non-trainable params: \u001b[0m\u001b[38;5;34m0\u001b[0m (0.00 B)\n"
            ],
            "text/html": [
              "<pre style=\"white-space:pre;overflow-x:auto;line-height:normal;font-family:Menlo,'DejaVu Sans Mono',consolas,'Courier New',monospace\"><span style=\"font-weight: bold\"> Non-trainable params: </span><span style=\"color: #00af00; text-decoration-color: #00af00\">0</span> (0.00 B)\n",
              "</pre>\n"
            ]
          },
          "metadata": {}
        }
      ]
    },
    {
      "cell_type": "code",
      "source": [
        "history = model.fit(\n",
        "    X_train, y_train,          # Training data\n",
        "    validation_data=(X_val, y_val),  # Validation data\n",
        "    epochs=10,                 # Number of epochs\n",
        "    batch_size=32,             # Batch size\n",
        "    verbose=1                  # Verbosity level\n",
        ")"
      ],
      "metadata": {
        "colab": {
          "base_uri": "https://localhost:8080/"
        },
        "id": "n-O1PgkT1rST",
        "outputId": "2160472b-e46a-4dea-85cd-b8e984ff868a"
      },
      "execution_count": 178,
      "outputs": [
        {
          "output_type": "stream",
          "name": "stdout",
          "text": [
            "Epoch 1/10\n",
            "\u001b[1m98/98\u001b[0m \u001b[32m━━━━━━━━━━━━━━━━━━━━\u001b[0m\u001b[37m\u001b[0m \u001b[1m1s\u001b[0m 12ms/step - accuracy: 0.9132 - loss: 0.2052 - val_accuracy: 0.9086 - val_loss: 0.2144\n",
            "Epoch 2/10\n",
            "\u001b[1m98/98\u001b[0m \u001b[32m━━━━━━━━━━━━━━━━━━━━\u001b[0m\u001b[37m\u001b[0m \u001b[1m1s\u001b[0m 9ms/step - accuracy: 0.9121 - loss: 0.2053 - val_accuracy: 0.9099 - val_loss: 0.2104\n",
            "Epoch 3/10\n",
            "\u001b[1m98/98\u001b[0m \u001b[32m━━━━━━━━━━━━━━━━━━━━\u001b[0m\u001b[37m\u001b[0m \u001b[1m1s\u001b[0m 9ms/step - accuracy: 0.9160 - loss: 0.1993 - val_accuracy: 0.9115 - val_loss: 0.2087\n",
            "Epoch 4/10\n",
            "\u001b[1m98/98\u001b[0m \u001b[32m━━━━━━━━━━━━━━━━━━━━\u001b[0m\u001b[37m\u001b[0m \u001b[1m1s\u001b[0m 8ms/step - accuracy: 0.9135 - loss: 0.2023 - val_accuracy: 0.9150 - val_loss: 0.2063\n",
            "Epoch 5/10\n",
            "\u001b[1m98/98\u001b[0m \u001b[32m━━━━━━━━━━━━━━━━━━━━\u001b[0m\u001b[37m\u001b[0m \u001b[1m1s\u001b[0m 6ms/step - accuracy: 0.9160 - loss: 0.1971 - val_accuracy: 0.9157 - val_loss: 0.2044\n",
            "Epoch 6/10\n",
            "\u001b[1m98/98\u001b[0m \u001b[32m━━━━━━━━━━━━━━━━━━━━\u001b[0m\u001b[37m\u001b[0m \u001b[1m1s\u001b[0m 5ms/step - accuracy: 0.9140 - loss: 0.1943 - val_accuracy: 0.9141 - val_loss: 0.2038\n",
            "Epoch 7/10\n",
            "\u001b[1m98/98\u001b[0m \u001b[32m━━━━━━━━━━━━━━━━━━━━\u001b[0m\u001b[37m\u001b[0m \u001b[1m1s\u001b[0m 5ms/step - accuracy: 0.9176 - loss: 0.1982 - val_accuracy: 0.9141 - val_loss: 0.2021\n",
            "Epoch 8/10\n",
            "\u001b[1m98/98\u001b[0m \u001b[32m━━━━━━━━━━━━━━━━━━━━\u001b[0m\u001b[37m\u001b[0m \u001b[1m1s\u001b[0m 5ms/step - accuracy: 0.9199 - loss: 0.1918 - val_accuracy: 0.9142 - val_loss: 0.2010\n",
            "Epoch 9/10\n",
            "\u001b[1m98/98\u001b[0m \u001b[32m━━━━━━━━━━━━━━━━━━━━\u001b[0m\u001b[37m\u001b[0m \u001b[1m1s\u001b[0m 6ms/step - accuracy: 0.9196 - loss: 0.1894 - val_accuracy: 0.9124 - val_loss: 0.2017\n",
            "Epoch 10/10\n",
            "\u001b[1m98/98\u001b[0m \u001b[32m━━━━━━━━━━━━━━━━━━━━\u001b[0m\u001b[37m\u001b[0m \u001b[1m1s\u001b[0m 5ms/step - accuracy: 0.9191 - loss: 0.1906 - val_accuracy: 0.9175 - val_loss: 0.2032\n"
          ]
        }
      ]
    },
    {
      "cell_type": "code",
      "source": [
        "train_loss, train_accuracy = model.evaluate(X_train, y_train, verbose=1)\n",
        "print(f\"training Loss: {train_loss}\")\n",
        "print(f\"training Accuracy: {train_accuracy}\")\n",
        "val_loss, val_accuracy = model.evaluate(X_val, y_val, verbose=1)\n",
        "print(f\"valing Loss: {val_loss}\")\n",
        "print(f\"valing Accuracy: {val_accuracy}\")"
      ],
      "metadata": {
        "colab": {
          "base_uri": "https://localhost:8080/"
        },
        "id": "cU7WkXcb3iC1",
        "outputId": "8e0c6cb1-932e-4e1c-9952-3cbeed299d8e"
      },
      "execution_count": 179,
      "outputs": [
        {
          "output_type": "stream",
          "name": "stdout",
          "text": [
            "\u001b[1m98/98\u001b[0m \u001b[32m━━━━━━━━━━━━━━━━━━━━\u001b[0m\u001b[37m\u001b[0m \u001b[1m0s\u001b[0m 2ms/step - accuracy: 0.9201 - loss: 0.1997\n",
            "training Loss: 0.19192101061344147\n",
            "training Accuracy: 0.921748161315918\n",
            "\u001b[1m25/25\u001b[0m \u001b[32m━━━━━━━━━━━━━━━━━━━━\u001b[0m\u001b[37m\u001b[0m \u001b[1m0s\u001b[0m 3ms/step - accuracy: 0.9173 - loss: 0.2097\n",
            "valing Loss: 0.20322538912296295\n",
            "valing Accuracy: 0.9175223708152771\n"
          ]
        }
      ]
    },
    {
      "cell_type": "code",
      "source": [
        "test_loss, test_accuracy = model.evaluate(X_test, y_test, verbose=1)\n",
        "print(f\"Testing Loss: {test_loss}\")\n",
        "print(f\"Testing Accuracy: {test_accuracy}\")"
      ],
      "metadata": {
        "colab": {
          "base_uri": "https://localhost:8080/"
        },
        "id": "GDtSzprR3lGA",
        "outputId": "f88eaed6-2608-46ae-c71c-d681a6c8b6f5"
      },
      "execution_count": 180,
      "outputs": [
        {
          "output_type": "stream",
          "name": "stdout",
          "text": [
            "\u001b[1m31/31\u001b[0m \u001b[32m━━━━━━━━━━━━━━━━━━━━\u001b[0m\u001b[37m\u001b[0m \u001b[1m0s\u001b[0m 2ms/step - accuracy: 0.9173 - loss: 0.1980\n",
            "Testing Loss: 0.201390340924263\n",
            "Testing Accuracy: 0.9168375730514526\n"
          ]
        }
      ]
    }
  ]
}